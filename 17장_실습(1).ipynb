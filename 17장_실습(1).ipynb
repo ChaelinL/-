{
  "nbformat": 4,
  "nbformat_minor": 0,
  "metadata": {
    "colab": {
      "provenance": [],
      "authorship_tag": "ABX9TyN1ndgCx0xB7RlSJo01tBdV",
      "include_colab_link": true
    },
    "kernelspec": {
      "name": "python3",
      "display_name": "Python 3"
    },
    "language_info": {
      "name": "python"
    }
  },
  "cells": [
    {
      "cell_type": "markdown",
      "metadata": {
        "id": "view-in-github",
        "colab_type": "text"
      },
      "source": [
        "<a href=\"https://colab.research.google.com/github/ChaelinL/Deeplearning_for_everyone/blob/main/17%EC%9E%A5_%EC%8B%A4%EC%8A%B5(1).ipynb\" target=\"_parent\"><img src=\"https://colab.research.google.com/assets/colab-badge.svg\" alt=\"Open In Colab\"/></a>"
      ]
    },
    {
      "cell_type": "markdown",
      "source": [
        "# 딥러닝을 이용한 자연어 처리"
      ],
      "metadata": {
        "id": "7iFWBEL5A2I2"
      }
    },
    {
      "cell_type": "markdown",
      "source": [
        "**1. 텍스트의 토큰화 (단어 분류)**"
      ],
      "metadata": {
        "id": "Fk0jX7TMCGM5"
      }
    },
    {
      "cell_type": "code",
      "execution_count": null,
      "metadata": {
        "colab": {
          "base_uri": "https://localhost:8080/"
        },
        "id": "L46vjnJ7AnKZ",
        "outputId": "4b3a84d1-b4bb-4c00-cbe5-5482c19b9653"
      },
      "outputs": [
        {
          "output_type": "stream",
          "name": "stdout",
          "text": [
            "\n",
            " 원문:\n",
            " 해보지 않으면 해낼 수 없다\n",
            "\n",
            " 토큰화:\n",
            " ['해보지', '않으면', '해낼', '수', '없다']\n"
          ]
        }
      ],
      "source": [
        "from tensorflow.keras.preprocessing.text import text_to_word_sequence\n",
        "\n",
        "# 전처리할 텍스트 선정\n",
        "text = '해보지 않으면 해낼 수 없다'\n",
        "\n",
        "# 텍스트 토큰화\n",
        "result = text_to_word_sequence(text)  # 단어 단위로 나누기\n",
        "print(\"\\n 원문:\\n\", text)\n",
        "print(\"\\n 토큰화:\\n\", result)"
      ]
    },
    {
      "cell_type": "markdown",
      "source": [
        "**2. 텍스트의 토큰화 (단어 개수 세기)**"
      ],
      "metadata": {
        "id": "qBdqt9b0CJeg"
      }
    },
    {
      "cell_type": "code",
      "source": [
        "from tensorflow.keras.preprocessing.text import Tokenizer\n",
        "\n",
        "docs = ['먼저 텍스트의 각 단어를 나누어 토큰화 합니다.',\n",
        "        '텍스트의 단어로 토큰화해야 딥러닝에서 인식됩니다.',\n",
        "        '토큰화한 결과는 딥러닝에서 사용할 수 있습니다.']\n",
        "\n",
        "token = Tokenizer()  # 토큰화 함수 지정\n",
        "token.fit_on_texts(docs)  # 토큰화 함수에 문장 적용\n",
        "\n",
        "print(\"\\n 단어 카운트: \\n\", token.word_counts)  # 단어의 빈도수를 계산한 결과 출력\n",
        "print(\"\\n 문장 카운트: \\n\", token.document_count)  # 문장의 빈도수를 계산한 결과 출력\n",
        "\n",
        "print(\"\\n 각 단어가 몇 개의 문장에 포함되어 있는가: \\n\", token.word_docs)  # 각 단어들이 몇 개의 문장에 나오는지 계산한 결과 출력\n",
        "print(\"\\n 각 단어에 매겨진 인덱스 값: \\n\", token.word_index)  # 각 단어에 매겨진 인덱스 값 출력"
      ],
      "metadata": {
        "colab": {
          "base_uri": "https://localhost:8080/"
        },
        "id": "sSQ8yqRcCcrh",
        "outputId": "a7cadaf2-c553-4b25-8a3a-7b1ebbfa114e"
      },
      "execution_count": null,
      "outputs": [
        {
          "output_type": "stream",
          "name": "stdout",
          "text": [
            "\n",
            " 단어 카운트: \n",
            " OrderedDict([('먼저', 1), ('텍스트의', 2), ('각', 1), ('단어를', 1), ('나누어', 1), ('토큰화', 1), ('합니다', 1), ('단어로', 1), ('토큰화해야', 1), ('딥러닝에서', 2), ('인식됩니다', 1), ('토큰화한', 1), ('결과는', 1), ('사용할', 1), ('수', 1), ('있습니다', 1)])\n",
            "\n",
            " 문장 카운트: \n",
            " 3\n",
            "\n",
            " 각 단어가 몇 개의 문장에 포함되어 있는가: \n",
            " defaultdict(<class 'int'>, {'토큰화': 1, '각': 1, '먼저': 1, '나누어': 1, '텍스트의': 2, '합니다': 1, '단어를': 1, '토큰화해야': 1, '단어로': 1, '인식됩니다': 1, '딥러닝에서': 2, '결과는': 1, '토큰화한': 1, '있습니다': 1, '수': 1, '사용할': 1})\n",
            "\n",
            " 각 단어에 매겨진 인덱스 값: \n",
            " {'텍스트의': 1, '딥러닝에서': 2, '먼저': 3, '각': 4, '단어를': 5, '나누어': 6, '토큰화': 7, '합니다': 8, '단어로': 9, '토큰화해야': 10, '인식됩니다': 11, '토큰화한': 12, '결과는': 13, '사용할': 14, '수': 15, '있습니다': 16}\n"
          ]
        }
      ]
    },
    {
      "cell_type": "markdown",
      "source": [
        "**3. 단어의 원-핫 인코딩**"
      ],
      "metadata": {
        "id": "dmb5nC0DDxtD"
      }
    },
    {
      "cell_type": "code",
      "source": [
        "text = \"오랫동안 꿈꾸는 이는 그 꿈을 닮아간다\"\n",
        "\n",
        "token = Tokenizer()\n",
        "token.fit_on_texts([text])\n",
        "print(token.word_index)  # 단어 단위로 토큰화하여 각 단어의 인덱스 값 출력\n",
        "\n",
        "x = token.texts_to_sequences([text])  # 토큰의 인덱스로만 이루어진 배열\n",
        "print(x)\n",
        "\n",
        "from tensorflow.keras.utils import to_categorical\n",
        "\n",
        "# 인덱스 수에 하나를 추가해서 원-핫 인코딩 배열 만들기 (배열 맨 앞에 0이 추가되기 때문에 단어 수보다 1이 더 많게 인덱스 설정)\n",
        "word_size = len(token.word_index) + 1\n",
        "x = to_categorical(x, num_classes=word_size)\n",
        "\n",
        "print(x)"
      ],
      "metadata": {
        "colab": {
          "base_uri": "https://localhost:8080/"
        },
        "id": "Gui5GlusD0rl",
        "outputId": "f180dc30-585e-4350-ad0e-e7708748a6e8"
      },
      "execution_count": null,
      "outputs": [
        {
          "output_type": "stream",
          "name": "stdout",
          "text": [
            "{'오랫동안': 1, '꿈꾸는': 2, '이는': 3, '그': 4, '꿈을': 5, '닮아간다': 6}\n",
            "[[1, 2, 3, 4, 5, 6]]\n",
            "[[[0. 1. 0. 0. 0. 0. 0.]\n",
            "  [0. 0. 1. 0. 0. 0. 0.]\n",
            "  [0. 0. 0. 1. 0. 0. 0.]\n",
            "  [0. 0. 0. 0. 1. 0. 0.]\n",
            "  [0. 0. 0. 0. 0. 1. 0.]\n",
            "  [0. 0. 0. 0. 0. 0. 1.]]]\n"
          ]
        }
      ]
    },
    {
      "cell_type": "markdown",
      "source": [
        "**4. 단어 임베딩**"
      ],
      "metadata": {
        "id": "irRRpbKLFGFc"
      }
    },
    {
      "cell_type": "code",
      "source": [
        "# 단어 임베딩을 통해 주어진 배열을 정해진 길이로 압축\n",
        "from tensorflow.keras.layers import Embedding\n",
        "from tensorflow.keras.models import Sequential\n",
        "\n",
        "model = Sequential()\n",
        "model.add(Embedding(16, 4))  # 입력될 총 단어의 수는 16, 임베딩 후 출력되는 벡터 크기는 4"
      ],
      "metadata": {
        "id": "CDCbLi67FIek"
      },
      "execution_count": null,
      "outputs": []
    }
  ]
}