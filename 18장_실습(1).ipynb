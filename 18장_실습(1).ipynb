{
  "nbformat": 4,
  "nbformat_minor": 0,
  "metadata": {
    "colab": {
      "provenance": [],
      "authorship_tag": "ABX9TyP+FcYfu+pHhIIJaY3PqrbL",
      "include_colab_link": true
    },
    "kernelspec": {
      "name": "python3",
      "display_name": "Python 3"
    },
    "language_info": {
      "name": "python"
    },
    "accelerator": "GPU",
    "gpuClass": "standard"
  },
  "cells": [
    {
      "cell_type": "markdown",
      "metadata": {
        "id": "view-in-github",
        "colab_type": "text"
      },
      "source": [
        "<a href=\"https://colab.research.google.com/github/ChaelinL/Deeplearning_for_everyone/blob/main/18%EC%9E%A5_%EC%8B%A4%EC%8A%B5(1).ipynb\" target=\"_parent\"><img src=\"https://colab.research.google.com/assets/colab-badge.svg\" alt=\"Open In Colab\"/></a>"
      ]
    },
    {
      "cell_type": "markdown",
      "source": [
        "# LSTM을 이용해 로이터 뉴스 카테고리 분석하기"
      ],
      "metadata": {
        "id": "xsZNcriLAAl3"
      }
    },
    {
      "cell_type": "code",
      "execution_count": 1,
      "metadata": {
        "id": "A0Tvkw67-86n"
      },
      "outputs": [],
      "source": [
        "from tensorflow.keras.models import Sequential\n",
        "from tensorflow.keras.layers import Dense, LSTM, Embedding\n",
        "from tensorflow.keras.utils import to_categorical\n",
        "from tensorflow.keras.preprocessing import sequence\n",
        "from tensorflow.keras.datasets import reuters\n",
        "from tensorflow.keras.callbacks import EarlyStopping\n",
        "\n",
        "import numpy as np\n",
        "import matplotlib.pyplot as plt"
      ]
    },
    {
      "cell_type": "code",
      "source": [
        "# 데이터를 학습셋, 테스트셋으로 나누기\n",
        "(X_train, y_train), (X_test, y_test) = reuters.load_data(num_words=1000, test_split=0.2)  # num_words -> 빈도가 1~1000에 해당하는 단어만 선택해 불러오기\n",
        "\n",
        "# 데이터 확인\n",
        "category = np.max(y_train) + 1\n",
        "print(category, '카테고리')\n",
        "print(len(X_train), '학습용 뉴스 기사')\n",
        "print(len(X_test), '테스트용 뉴스 기사')\n",
        "print(X_train[0])"
      ],
      "metadata": {
        "colab": {
          "base_uri": "https://localhost:8080/"
        },
        "id": "5oimwxn7ALTj",
        "outputId": "a87cb987-aa58-482e-983b-966e1d9a3a4b"
      },
      "execution_count": 2,
      "outputs": [
        {
          "output_type": "stream",
          "name": "stdout",
          "text": [
            "Downloading data from https://storage.googleapis.com/tensorflow/tf-keras-datasets/reuters.npz\n",
            "2110848/2110848 [==============================] - 0s 0us/step\n",
            "46 카테고리\n",
            "8982 학습용 뉴스 기사\n",
            "2246 테스트용 뉴스 기사\n",
            "[1, 2, 2, 8, 43, 10, 447, 5, 25, 207, 270, 5, 2, 111, 16, 369, 186, 90, 67, 7, 89, 5, 19, 102, 6, 19, 124, 15, 90, 67, 84, 22, 482, 26, 7, 48, 4, 49, 8, 864, 39, 209, 154, 6, 151, 6, 83, 11, 15, 22, 155, 11, 15, 7, 48, 9, 2, 2, 504, 6, 258, 6, 272, 11, 15, 22, 134, 44, 11, 15, 16, 8, 197, 2, 90, 67, 52, 29, 209, 30, 32, 132, 6, 109, 15, 17, 12]\n"
          ]
        }
      ]
    },
    {
      "cell_type": "code",
      "source": [
        "# 단어의 수 맞춰주기\n",
        "X_train = sequence.pad_sequences(X_train, maxlen=100)\n",
        "X_test = sequence.pad_sequences(X_test, maxlen=100)\n",
        "\n",
        "# 원-핫 인코딩 처리하기\n",
        "y_train = to_categorical(y_train)\n",
        "y_test = to_categorical(y_test)"
      ],
      "metadata": {
        "id": "txDWVzS7A-TT"
      },
      "execution_count": 3,
      "outputs": []
    },
    {
      "cell_type": "code",
      "source": [
        "# 모델 구조 설정하기\n",
        "model = Sequential()\n",
        "model.add(Embedding(1000, 100))\n",
        "model.add(LSTM(100, activation='tanh'))  # LSTM의 활성화 함수는 주로 tanh를 사용\n",
        "model.add(Dense(46, activation='softmax'))\n",
        "\n",
        "# 모델 실행 옵션 설정하기\n",
        "model.compile(loss='categorical_crossentropy', optimizer='adam', metrics=['accuracy'])\n",
        "\n",
        "# 학습의 조기 중단 설정하기\n",
        "early_stopping_callback = EarlyStopping(monitor='val_loss', patience=5)"
      ],
      "metadata": {
        "id": "e3OUK65MBJSV"
      },
      "execution_count": 4,
      "outputs": []
    },
    {
      "cell_type": "code",
      "source": [
        "# 모델 실행\n",
        "history = model.fit(X_train, y_train, batch_size=20, epochs=200, validation_data=(X_test, y_test), callbacks=[early_stopping_callback])\n",
        "\n",
        "# 테스트 정확도 출력\n",
        "print(f\"Test Accuracy: {round(model.evaluate(X_test, y_test)[1], 4)}\")"
      ],
      "metadata": {
        "colab": {
          "base_uri": "https://localhost:8080/"
        },
        "id": "54aYakUjCUiG",
        "outputId": "983668fc-52bb-463d-e020-06fdd9a3efbd"
      },
      "execution_count": 5,
      "outputs": [
        {
          "output_type": "stream",
          "name": "stdout",
          "text": [
            "Epoch 1/200\n",
            "450/450 [==============================] - 31s 54ms/step - loss: 2.2001 - accuracy: 0.4378 - val_loss: 1.8922 - val_accuracy: 0.5067\n",
            "Epoch 2/200\n",
            "450/450 [==============================] - 7s 16ms/step - loss: 1.7482 - accuracy: 0.5538 - val_loss: 1.7546 - val_accuracy: 0.5316\n",
            "Epoch 3/200\n",
            "450/450 [==============================] - 5s 10ms/step - loss: 1.6296 - accuracy: 0.5844 - val_loss: 1.6189 - val_accuracy: 0.5855\n",
            "Epoch 4/200\n",
            "450/450 [==============================] - 4s 10ms/step - loss: 1.4796 - accuracy: 0.6214 - val_loss: 1.5261 - val_accuracy: 0.6238\n",
            "Epoch 5/200\n",
            "450/450 [==============================] - 6s 13ms/step - loss: 1.3305 - accuracy: 0.6648 - val_loss: 1.3597 - val_accuracy: 0.6492\n",
            "Epoch 6/200\n",
            "450/450 [==============================] - 4s 10ms/step - loss: 1.2100 - accuracy: 0.6971 - val_loss: 1.3199 - val_accuracy: 0.6647\n",
            "Epoch 7/200\n",
            "450/450 [==============================] - 5s 11ms/step - loss: 1.0886 - accuracy: 0.7239 - val_loss: 1.2125 - val_accuracy: 0.6977\n",
            "Epoch 8/200\n",
            "450/450 [==============================] - 4s 10ms/step - loss: 0.9929 - accuracy: 0.7518 - val_loss: 1.1805 - val_accuracy: 0.7053\n",
            "Epoch 9/200\n",
            "450/450 [==============================] - 4s 10ms/step - loss: 0.9032 - accuracy: 0.7725 - val_loss: 1.1516 - val_accuracy: 0.7155\n",
            "Epoch 10/200\n",
            "450/450 [==============================] - 5s 10ms/step - loss: 0.8163 - accuracy: 0.7937 - val_loss: 1.1344 - val_accuracy: 0.7191\n",
            "Epoch 11/200\n",
            "450/450 [==============================] - 4s 9ms/step - loss: 0.7473 - accuracy: 0.8092 - val_loss: 1.1403 - val_accuracy: 0.7235\n",
            "Epoch 12/200\n",
            "450/450 [==============================] - 4s 9ms/step - loss: 0.6841 - accuracy: 0.8280 - val_loss: 1.1706 - val_accuracy: 0.7213\n",
            "Epoch 13/200\n",
            "450/450 [==============================] - 5s 10ms/step - loss: 0.6328 - accuracy: 0.8387 - val_loss: 1.1756 - val_accuracy: 0.7235\n",
            "Epoch 14/200\n",
            "450/450 [==============================] - 4s 8ms/step - loss: 0.5782 - accuracy: 0.8543 - val_loss: 1.1821 - val_accuracy: 0.7275\n",
            "Epoch 15/200\n",
            "450/450 [==============================] - 4s 8ms/step - loss: 0.5312 - accuracy: 0.8650 - val_loss: 1.1929 - val_accuracy: 0.7213\n",
            "71/71 [==============================] - 0s 4ms/step - loss: 1.1929 - accuracy: 0.7213\n",
            "Test Accuracy: 0.7213\n"
          ]
        }
      ]
    },
    {
      "cell_type": "code",
      "source": [
        "# 검증셋과 학습셋의 오차 저장\n",
        "y_vloss = history.history['val_loss']\n",
        "y_loss = history.history['loss']\n",
        "\n",
        "# 그래프로 시각화\n",
        "x_len = np.arange(len(y_loss))\n",
        "plt.plot(x_len, y_vloss, marker='.', c='red', label='Testset_loss')\n",
        "plt.plot(x_len, y_loss, marker='.', c='blue', label='Trainset_loss')\n",
        "\n",
        "plt.legend(loc='upper right')\n",
        "plt.grid()\n",
        "plt.xlabel('epoch')\n",
        "plt.ylabel('loss')\n",
        "plt.show()"
      ],
      "metadata": {
        "colab": {
          "base_uri": "https://localhost:8080/",
          "height": 279
        },
        "id": "bGuwb8KlDcPm",
        "outputId": "dec4514b-489b-4a6a-9fbf-59a32c71100a"
      },
      "execution_count": 7,
      "outputs": [
        {
          "output_type": "display_data",
          "data": {
            "text/plain": [
              "<Figure size 432x288 with 1 Axes>"
            ],
            "image/png": "[encoded data removed]"
          },
          "metadata": {
            "needs_background": "light"
          }
        }
      ]
    }
  ]
}