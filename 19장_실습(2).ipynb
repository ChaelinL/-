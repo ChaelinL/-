{
  "nbformat": 4,
  "nbformat_minor": 0,
  "metadata": {
    "colab": {
      "provenance": [],
      "authorship_tag": "ABX9TyP2I18ujCAhIJktQ7JyMFMz",
      "include_colab_link": true
    },
    "kernelspec": {
      "name": "python3",
      "display_name": "Python 3"
    },
    "language_info": {
      "name": "python"
    },
    "accelerator": "GPU",
    "gpuClass": "standard"
  },
  "cells": [
    {
      "cell_type": "markdown",
      "metadata": {
        "id": "view-in-github",
        "colab_type": "text"
      },
      "source": [
        "<a href=\"https://colab.research.google.com/github/ChaelinL/Deeplearning_for_everyone/blob/main/19%EC%9E%A5_%EC%8B%A4%EC%8A%B5(2).ipynb\" target=\"_parent\"><img src=\"https://colab.research.google.com/assets/colab-badge.svg\" alt=\"Open In Colab\"/></a>"
      ]
    },
    {
      "cell_type": "markdown",
      "source": [
        "# 오토인코더 실습하기"
      ],
      "metadata": {
        "id": "To0fO7LlFmZ9"
      }
    },
    {
      "cell_type": "code",
      "source": [
        "from tensorflow.keras.datasets import mnist\n",
        "from tensorflow.keras.models import Sequential, Model\n",
        "from tensorflow.keras.layers import Input, Dense, Conv2D, MaxPooling2D, UpSampling2D, Flatten, Reshape\n",
        "\n",
        "import numpy as np\n",
        "import matplotlib.pyplot as plt"
      ],
      "metadata": {
        "id": "-UIXmuIfFrTt"
      },
      "execution_count": 2,
      "outputs": []
    },
    {
      "cell_type": "code",
      "execution_count": 3,
      "metadata": {
        "colab": {
          "base_uri": "https://localhost:8080/"
        },
        "id": "ZnP-v22EFlVu",
        "outputId": "abd25462-5684-4add-e9b1-2768e40fc79b"
      },
      "outputs": [
        {
          "output_type": "stream",
          "name": "stdout",
          "text": [
            "Downloading data from https://storage.googleapis.com/tensorflow/tf-keras-datasets/mnist.npz\n",
            "11490434/11490434 [==============================] - 2s 0us/step\n"
          ]
        }
      ],
      "source": [
        "# MNIST 데이터셋 불러오기\n",
        "(X_train, _), (X_test, _) = mnist.load_data()\n",
        "X_train = X_train.reshape(X_train.shape[0],28, 28, 1).astype('float32')/255\n",
        "X_test = X_test.reshape(X_test.shape[0],28, 28, 1).astype('float32')/255"
      ]
    },
    {
      "cell_type": "code",
      "source": [
        "# 생성자 모델 만들기\n",
        "autoencoder = Sequential()"
      ],
      "metadata": {
        "id": "pOYQA2-HGQ5r"
      },
      "execution_count": 4,
      "outputs": []
    },
    {
      "cell_type": "code",
      "source": [
        "# 인코딩 (차원 축소)\n",
        "autoencoder.add(Conv2D(16, kernel_size=3, padding='same', input_shape=(28, 28, 1), activation='relu'))\n",
        "autoencoder.add(MaxPooling2D(pool_size=2, padding='same'))\n",
        "autoencoder.add(Conv2D(8, kernel_size=3, activation='relu', padding='same'))\n",
        "autoencoder.add(MaxPooling2D(pool_size=2, padding='same'))\n",
        "autoencoder.add(Conv2D(8, kernel_size=3, strides=2, padding='same', activation='relu'))"
      ],
      "metadata": {
        "id": "eousQp7gGVT9"
      },
      "execution_count": 5,
      "outputs": []
    },
    {
      "cell_type": "code",
      "source": [
        "# 디코딩 (차원 복구)\n",
        "autoencoder.add(Conv2D(8, kernel_size=3, padding='same',  activation='relu'))\n",
        "autoencoder.add(UpSampling2D())\n",
        "autoencoder.add(Conv2D(8, kernel_size=3, padding='same',  activation='relu'))\n",
        "autoencoder.add(UpSampling2D())\n",
        "autoencoder.add(Conv2D(16, kernel_size=3, activation='relu'))\n",
        "autoencoder.add(UpSampling2D())  # MaxPooling이 2번인데 UpSampling이 3번인 이유는 커널이 적용되면서 크기가 알아서 줄기 때문\n",
        "autoencoder.add(Conv2D(1, kernel_size=3, padding='same',  activation='sigmoid'))"
      ],
      "metadata": {
        "id": "AQHf2TdeGWqJ"
      },
      "execution_count": 6,
      "outputs": []
    },
    {
      "cell_type": "code",
      "source": [
        "# 컴파일 및 학습\n",
        "autoencoder.compile(optimizer='adam', loss='binary_crossentropy')\n",
        "autoencoder.fit(X_train, X_train, epochs=50, batch_size=128, validation_data=(X_test, X_test))"
      ],
      "metadata": {
        "colab": {
          "base_uri": "https://localhost:8080/"
        },
        "id": "FZ_C1yZ0HSAf",
        "outputId": "684718d7-c83f-48ec-85cf-c31926c5d3ae"
      },
      "execution_count": 8,
      "outputs": [
        {
          "output_type": "stream",
          "name": "stdout",
          "text": [
            "Epoch 1/50\n",
            "469/469 [==============================] - 16s 9ms/step - loss: 0.2176 - val_loss: 0.1388\n",
            "Epoch 2/50\n",
            "469/469 [==============================] - 4s 8ms/step - loss: 0.1294 - val_loss: 0.1201\n",
            "Epoch 3/50\n",
            "469/469 [==============================] - 4s 9ms/step - loss: 0.1167 - val_loss: 0.1117\n",
            "Epoch 4/50\n",
            "469/469 [==============================] - 4s 8ms/step - loss: 0.1104 - val_loss: 0.1073\n",
            "Epoch 5/50\n",
            "469/469 [==============================] - 4s 8ms/step - loss: 0.1066 - val_loss: 0.1040\n",
            "Epoch 6/50\n",
            "469/469 [==============================] - 4s 8ms/step - loss: 0.1039 - val_loss: 0.1016\n",
            "Epoch 7/50\n",
            "469/469 [==============================] - 5s 11ms/step - loss: 0.1016 - val_loss: 0.0993\n",
            "Epoch 8/50\n",
            "469/469 [==============================] - 4s 8ms/step - loss: 0.0996 - val_loss: 0.0978\n",
            "Epoch 9/50\n",
            "469/469 [==============================] - 4s 8ms/step - loss: 0.0980 - val_loss: 0.0962\n",
            "Epoch 10/50\n",
            "469/469 [==============================] - 4s 9ms/step - loss: 0.0966 - val_loss: 0.0947\n",
            "Epoch 11/50\n",
            "469/469 [==============================] - 4s 8ms/step - loss: 0.0953 - val_loss: 0.0936\n",
            "Epoch 12/50\n",
            "469/469 [==============================] - 4s 8ms/step - loss: 0.0942 - val_loss: 0.0929\n",
            "Epoch 13/50\n",
            "469/469 [==============================] - 4s 9ms/step - loss: 0.0931 - val_loss: 0.0917\n",
            "Epoch 14/50\n",
            "469/469 [==============================] - 4s 8ms/step - loss: 0.0923 - val_loss: 0.0906\n",
            "Epoch 15/50\n",
            "469/469 [==============================] - 4s 8ms/step - loss: 0.0914 - val_loss: 0.0899\n",
            "Epoch 16/50\n",
            "469/469 [==============================] - 4s 9ms/step - loss: 0.0908 - val_loss: 0.0893\n",
            "Epoch 17/50\n",
            "469/469 [==============================] - 4s 7ms/step - loss: 0.0901 - val_loss: 0.0886\n",
            "Epoch 18/50\n",
            "469/469 [==============================] - 4s 7ms/step - loss: 0.0895 - val_loss: 0.0885\n",
            "Epoch 19/50\n",
            "469/469 [==============================] - 4s 8ms/step - loss: 0.0890 - val_loss: 0.0875\n",
            "Epoch 20/50\n",
            "469/469 [==============================] - 4s 8ms/step - loss: 0.0885 - val_loss: 0.0871\n",
            "Epoch 21/50\n",
            "469/469 [==============================] - 4s 8ms/step - loss: 0.0880 - val_loss: 0.0874\n",
            "Epoch 22/50\n",
            "469/469 [==============================] - 4s 8ms/step - loss: 0.0877 - val_loss: 0.0867\n",
            "Epoch 23/50\n",
            "469/469 [==============================] - 5s 11ms/step - loss: 0.0873 - val_loss: 0.0860\n",
            "Epoch 24/50\n",
            "469/469 [==============================] - 4s 8ms/step - loss: 0.0869 - val_loss: 0.0858\n",
            "Epoch 25/50\n",
            "469/469 [==============================] - 4s 8ms/step - loss: 0.0866 - val_loss: 0.0865\n",
            "Epoch 26/50\n",
            "469/469 [==============================] - 4s 9ms/step - loss: 0.0864 - val_loss: 0.0851\n",
            "Epoch 27/50\n",
            "469/469 [==============================] - 4s 8ms/step - loss: 0.0861 - val_loss: 0.0849\n",
            "Epoch 28/50\n",
            "469/469 [==============================] - 4s 8ms/step - loss: 0.0858 - val_loss: 0.0850\n",
            "Epoch 29/50\n",
            "469/469 [==============================] - 4s 9ms/step - loss: 0.0856 - val_loss: 0.0843\n",
            "Epoch 30/50\n",
            "469/469 [==============================] - 4s 8ms/step - loss: 0.0854 - val_loss: 0.0841\n",
            "Epoch 31/50\n",
            "469/469 [==============================] - 4s 8ms/step - loss: 0.0852 - val_loss: 0.0841\n",
            "Epoch 32/50\n",
            "469/469 [==============================] - 4s 8ms/step - loss: 0.0850 - val_loss: 0.0838\n",
            "Epoch 33/50\n",
            "469/469 [==============================] - 4s 9ms/step - loss: 0.0848 - val_loss: 0.0837\n",
            "Epoch 34/50\n",
            "469/469 [==============================] - 4s 8ms/step - loss: 0.0846 - val_loss: 0.0838\n",
            "Epoch 35/50\n",
            "469/469 [==============================] - 4s 8ms/step - loss: 0.0845 - val_loss: 0.0834\n",
            "Epoch 36/50\n",
            "469/469 [==============================] - 4s 9ms/step - loss: 0.0843 - val_loss: 0.0831\n",
            "Epoch 37/50\n",
            "469/469 [==============================] - 4s 8ms/step - loss: 0.0841 - val_loss: 0.0831\n",
            "Epoch 38/50\n",
            "469/469 [==============================] - 4s 8ms/step - loss: 0.0840 - val_loss: 0.0829\n",
            "Epoch 39/50\n",
            "469/469 [==============================] - 4s 9ms/step - loss: 0.0838 - val_loss: 0.0832\n",
            "Epoch 40/50\n",
            "469/469 [==============================] - 4s 8ms/step - loss: 0.0838 - val_loss: 0.0830\n",
            "Epoch 41/50\n",
            "469/469 [==============================] - 4s 8ms/step - loss: 0.0836 - val_loss: 0.0831\n",
            "Epoch 42/50\n",
            "469/469 [==============================] - 4s 9ms/step - loss: 0.0835 - val_loss: 0.0825\n",
            "Epoch 43/50\n",
            "469/469 [==============================] - 4s 8ms/step - loss: 0.0834 - val_loss: 0.0824\n",
            "Epoch 44/50\n",
            "469/469 [==============================] - 4s 8ms/step - loss: 0.0833 - val_loss: 0.0825\n",
            "Epoch 45/50\n",
            "469/469 [==============================] - 4s 9ms/step - loss: 0.0832 - val_loss: 0.0822\n",
            "Epoch 46/50\n",
            "469/469 [==============================] - 4s 8ms/step - loss: 0.0831 - val_loss: 0.0824\n",
            "Epoch 47/50\n",
            "469/469 [==============================] - 4s 8ms/step - loss: 0.0830 - val_loss: 0.0826\n",
            "Epoch 48/50\n",
            "469/469 [==============================] - 4s 8ms/step - loss: 0.0829 - val_loss: 0.0818\n",
            "Epoch 49/50\n",
            "469/469 [==============================] - 4s 9ms/step - loss: 0.0829 - val_loss: 0.0820\n",
            "Epoch 50/50\n",
            "469/469 [==============================] - 4s 8ms/step - loss: 0.0828 - val_loss: 0.0818\n"
          ]
        },
        {
          "output_type": "execute_result",
          "data": {
            "text/plain": [
              "<keras.callbacks.History at 0x7f99801af820>"
            ]
          },
          "metadata": {},
          "execution_count": 8
        }
      ]
    },
    {
      "cell_type": "code",
      "source": [
        "# 학습 결과 출력\n",
        "random_test = np.random.randint(X_test.shape[0], size=5)"
      ],
      "metadata": {
        "id": "GeMbJzBFHmKH"
      },
      "execution_count": 9,
      "outputs": []
    },
    {
      "cell_type": "code",
      "source": [
        "# 테스트할 이미지 랜덤 호출\n",
        "ae_imgs = autoencoder.predict(X_test)\n",
        "\n",
        "plt.figure(figsize=(7,2))  # 출력 이미지의 크기 설정\n",
        "\n",
        "for i, image_idx in enumerate(random_test):\n",
        "  # 랜덤으로 뽑은 이미지 차례로 나열\n",
        "  ax = plt.subplot(2, 7, i+1)\n",
        "  # 테스트할 이미지 먼저 그래도 보여주기\n",
        "  plt.imshow(X_test[image_idx].reshape(28, 28))\n",
        "  ax.axis('off')\n",
        "  ax = plt.subplot(2, 7, 7+i+1)\n",
        "  # 오토인코딩 결과를 다음 열에 입력\n",
        "  plt.imshow(ae_imgs[image_idx].reshape(28, 28))\n",
        "  ax.axis('off')\n",
        "plt.show()"
      ],
      "metadata": {
        "colab": {
          "base_uri": "https://localhost:8080/",
          "height": 156
        },
        "id": "PkjSmymUHttO",
        "outputId": "d334eda9-f987-41ba-cf8f-0ef1eca647c3"
      },
      "execution_count": 10,
      "outputs": [
        {
          "output_type": "stream",
          "name": "stdout",
          "text": [
            "313/313 [==============================] - 1s 3ms/step\n"
          ]
        },
        {
          "output_type": "display_data",
          "data": {
            "text/plain": [
              "<Figure size 504x144 with 10 Axes>"
            ],
            "image/png": "[encoded data removed]"
          },
          "metadata": {
            "needs_background": "light"
          }
        }
      ]
    }
  ]
}