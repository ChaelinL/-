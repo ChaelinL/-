{
  "nbformat": 4,
  "nbformat_minor": 0,
  "metadata": {
    "colab": {
      "provenance": [],
      "authorship_tag": "ABX9TyNz2zMZuo0MItLb1PO8kv7N",
      "include_colab_link": true
    },
    "kernelspec": {
      "name": "python3",
      "display_name": "Python 3"
    },
    "language_info": {
      "name": "python"
    }
  },
  "cells": [
    {
      "cell_type": "markdown",
      "metadata": {
        "id": "view-in-github",
        "colab_type": "text"
      },
      "source": [
        "<a href=\"https://colab.research.google.com/github/ChaelinL/Deeplearning_for_everyone/blob/main/%ED%8F%90%EC%95%94_%ED%99%98%EC%9E%90_%EC%83%9D%EC%A1%B4%EC%9C%A8_%EC%98%88%EC%B8%A1_%EC%8B%A4%EC%8A%B5.ipynb\" target=\"_parent\"><img src=\"https://colab.research.google.com/assets/colab-badge.svg\" alt=\"Open In Colab\"/></a>"
      ]
    },
    {
      "cell_type": "markdown",
      "source": [
        "**1. 환경 준비**"
      ],
      "metadata": {
        "id": "ZyFt9v1eFNMs"
      }
    },
    {
      "cell_type": "code",
      "execution_count": null,
      "metadata": {
        "id": "Te8Xo9GXEskN"
      },
      "outputs": [],
      "source": [
        "from tensorflow.keras.models import Sequential\n",
        "from tensorflow.keras.layers import Dense\n",
        "\n",
        "import numpy as np"
      ]
    },
    {
      "cell_type": "markdown",
      "source": [
        "**2. 데이터 준비** (이 경우, 깃허브에서 불러오기)"
      ],
      "metadata": {
        "id": "kyYY5pUZFRg5"
      }
    },
    {
      "cell_type": "code",
      "source": [
        "!git clone https://github.com/taehojo/data.git\n",
        "\n",
        "Data_Set = np.loadtxt(\"./data/ThoraricSurgery3.csv\", delimiter=\",\")\n",
        "\n",
        "X = Data_Set[:,0:16]  # 환자의 진찰 기록\n",
        "y = Data_Set[:,16]  # 수술 1년 후 사망/생존 여부"
      ],
      "metadata": {
        "colab": {
          "base_uri": "https://localhost:8080/"
        },
        "id": "g1nObzqRFWhC",
        "outputId": "2c0f0899-21da-42ad-e391-1225af10c6b4"
      },
      "execution_count": null,
      "outputs": [
        {
          "output_type": "stream",
          "name": "stdout",
          "text": [
            "fatal: destination path 'data' already exists and is not an empty directory.\n"
          ]
        }
      ]
    },
    {
      "cell_type": "markdown",
      "source": [
        "**3. 구조 결정**"
      ],
      "metadata": {
        "id": "Kyl0-TReFv3u"
      }
    },
    {
      "cell_type": "code",
      "source": [
        "model = Sequential()\n",
        "model.add(Dense(30, input_dim = 16, activation = 'relu')) # 은닉층 (데이터에서 16개의 값을 받아 노드 30개로 보낸다.)\n",
        "model.add(Dense(1, activation = 'sigmoid')) # 출력층"
      ],
      "metadata": {
        "id": "myLns1Z-FxUX"
      },
      "execution_count": null,
      "outputs": []
    },
    {
      "cell_type": "markdown",
      "source": [
        "**4. 모델 실행**"
      ],
      "metadata": {
        "id": "TJLAB1jXF-5C"
      }
    },
    {
      "cell_type": "code",
      "source": [
        "model.compile(loss='binary_crossentropy', optimizer='adam', metrics=['accuracy'])  # binary_crossentropy -> 생존/사망 중 하나 예측 (이항분류)\n",
        "                                                                                   # metrics -> 모델 수행의 결과값 설정\n",
        "                                                                                   \n",
        "history = model.fit(X,y,epochs=5,batch_size=16)  # 총 샘플(470개)을 16번씩 끊어서 총 5번 반복 실행하라"
      ],
      "metadata": {
        "colab": {
          "base_uri": "https://localhost:8080/"
        },
        "id": "MB0G4Iw0GAzQ",
        "outputId": "151aa280-1f54-47c5-e3bf-06674a5c2eff"
      },
      "execution_count": null,
      "outputs": [
        {
          "output_type": "stream",
          "name": "stdout",
          "text": [
            "Epoch 1/5\n",
            "30/30 [==============================] - 1s 2ms/step - loss: 2.7830 - accuracy: 0.8511\n",
            "Epoch 2/5\n",
            "30/30 [==============================] - 0s 2ms/step - loss: 1.4088 - accuracy: 0.8511\n",
            "Epoch 3/5\n",
            "30/30 [==============================] - 0s 2ms/step - loss: 0.4999 - accuracy: 0.8426\n",
            "Epoch 4/5\n",
            "30/30 [==============================] - 0s 2ms/step - loss: 0.4495 - accuracy: 0.8511\n",
            "Epoch 5/5\n",
            "30/30 [==============================] - 0s 2ms/step - loss: 0.4339 - accuracy: 0.8511\n"
          ]
        }
      ]
    }
  ]
}