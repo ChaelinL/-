{
  "nbformat": 4,
  "nbformat_minor": 0,
  "metadata": {
    "colab": {
      "provenance": [],
      "authorship_tag": "ABX9TyOpbW+dlosArVca7fL0xJAk",
      "include_colab_link": true
    },
    "kernelspec": {
      "name": "python3",
      "display_name": "Python 3"
    },
    "language_info": {
      "name": "python"
    }
  },
  "cells": [
    {
      "cell_type": "markdown",
      "metadata": {
        "id": "view-in-github",
        "colab_type": "text"
      },
      "source": [
        "<a href=\"https://colab.research.google.com/github/ChaelinL/Deeplearning_for_everyone/blob/main/17%EC%9E%A5_%EC%8B%A4%EC%8A%B5(2).ipynb\" target=\"_parent\"><img src=\"https://colab.research.google.com/assets/colab-badge.svg\" alt=\"Open In Colab\"/></a>"
      ]
    },
    {
      "cell_type": "markdown",
      "source": [
        "# 영화 리뷰가 긍정적인지 부정적인지 예측하기"
      ],
      "metadata": {
        "id": "K_AV3V4aKfI1"
      }
    },
    {
      "cell_type": "code",
      "execution_count": null,
      "metadata": {
        "id": "UMXGtKr1Kcox"
      },
      "outputs": [],
      "source": [
        "from tensorflow.keras.preprocessing.text import Tokenizer\n",
        "from tensorflow.keras.preprocessing.sequence import pad_sequences\n",
        "from tensorflow.keras.models import Sequential\n",
        "from tensorflow.keras.layers import Dense, Flatten, Embedding\n",
        "from tensorflow.keras.utils import to_categorical\n",
        "from numpy import array"
      ]
    },
    {
      "cell_type": "code",
      "source": [
        "# 텍스트 리뷰 자료를 지정\n",
        "docs = ['너무 재밌네요', '최고예요', '참 잘 만든 영화예요', '추천하고 싶은 영화입니다', '한 번 더 보고싶네요', '글쎄요', '별로예요', '생각보다 지루하네요', '연기가 어색해요', '재미없어요']\n",
        "\n",
        "# 긍정 리뷰는 1, 부정 리뷰는 0으로 클래스를 지정\n",
        "classes = array([1, 1, 1, 1, 1, 0, 0, 0, 0, 0])\n",
        "\n",
        "# 토큰화\n",
        "token = Tokenizer()\n",
        "token.fit_on_texts(docs)\n",
        "print(token.word_index)  # 토큰화된 결과를 출력해 확인\n",
        "\n",
        "x = token.texts_to_sequences(docs)\n",
        "print(\"\\n 리뷰 텍스트, 토큰화 결과: \\n\", x)"
      ],
      "metadata": {
        "colab": {
          "base_uri": "https://localhost:8080/"
        },
        "id": "26ZRifzaLDoM",
        "outputId": "a2e08849-acec-4561-e980-89c73cc1e2b1"
      },
      "execution_count": null,
      "outputs": [
        {
          "output_type": "stream",
          "name": "stdout",
          "text": [
            "{'너무': 1, '재밌네요': 2, '최고예요': 3, '참': 4, '잘': 5, '만든': 6, '영화예요': 7, '추천하고': 8, '싶은': 9, '영화입니다': 10, '한': 11, '번': 12, '더': 13, '보고싶네요': 14, '글쎄요': 15, '별로예요': 16, '생각보다': 17, '지루하네요': 18, '연기가': 19, '어색해요': 20, '재미없어요': 21}\n",
            "\n",
            " 리뷰 텍스트, 토큰화 결과: \n",
            " [[1, 2], [3], [4, 5, 6, 7], [8, 9, 10], [11, 12, 13, 14], [15], [16], [17, 18], [19, 20], [21]]\n"
          ]
        }
      ]
    },
    {
      "cell_type": "code",
      "source": [
        "# 패딩 (서로 다른 길이의 데이터를 맞춰주기)\n",
        "padded_x = pad_sequences(x, 4)  # 배열의 길이를 4로 통일해서 맞추기\n",
        "\n",
        "print(\"\\n 패딩 결과: \\n\", padded_x)"
      ],
      "metadata": {
        "colab": {
          "base_uri": "https://localhost:8080/"
        },
        "id": "IxNRKe2PLF5j",
        "outputId": "bed4db40-15d7-41ce-c9d3-5f12531d3e6c"
      },
      "execution_count": null,
      "outputs": [
        {
          "output_type": "stream",
          "name": "stdout",
          "text": [
            "\n",
            " 패딩 결과: \n",
            " [[ 0  0  1  2]\n",
            " [ 0  0  0  3]\n",
            " [ 4  5  6  7]\n",
            " [ 0  8  9 10]\n",
            " [11 12 13 14]\n",
            " [ 0  0  0 15]\n",
            " [ 0  0  0 16]\n",
            " [ 0  0 17 18]\n",
            " [ 0  0 19 20]\n",
            " [ 0  0  0 21]]\n"
          ]
        }
      ]
    },
    {
      "cell_type": "code",
      "source": [
        "# 임베딩에 입력될 단어의 수 지정\n",
        "word_size = len(token.word_index) + 1\n",
        "\n",
        "# 단어 임베딩을 포함해 딥러닝 모델 구현 및 결과 출력\n",
        "model = Sequential()\n",
        "model.add(Embedding(word_size, 8, input_length=4))  # word_size만큼 입력값을 이용해 8개의 임베딩 결과 만들게 설정. 패딩을 4로 맞췄기 때문에 4개의 단어가 들어가게 설정\n",
        "model.add(Flatten())\n",
        "model.add(Dense(1, activation='sigmoid'))\n",
        "model.summary()\n",
        "\n",
        "model.compile(optimizer='adam', loss='binary_crossentropy', metrics=['accuracy'])\n",
        "model.fit(padded_x, classes, epochs=20)\n",
        "print(f\"\\n Accuracy: {round(model.evaluate(padded_x, classes)[1], 4)}\")"
      ],
      "metadata": {
        "colab": {
          "base_uri": "https://localhost:8080/"
        },
        "id": "ko_icESDLH88",
        "outputId": "48e164fa-a82c-4245-b485-0b6d30ba5fc5"
      },
      "execution_count": null,
      "outputs": [
        {
          "output_type": "stream",
          "name": "stdout",
          "text": [
            "Model: \"sequential\"\n",
            "_________________________________________________________________\n",
            " Layer (type)                Output Shape              Param #   \n",
            "=================================================================\n",
            " embedding (Embedding)       (None, 4, 8)              176       \n",
            "                                                                 \n",
            " flatten (Flatten)           (None, 32)                0         \n",
            "                                                                 \n",
            " dense (Dense)               (None, 1)                 33        \n",
            "                                                                 \n",
            "=================================================================\n",
            "Total params: 209\n",
            "Trainable params: 209\n",
            "Non-trainable params: 0\n",
            "_________________________________________________________________\n",
            "Epoch 1/20\n",
            "1/1 [==============================] - 2s 2s/step - loss: 0.6831 - accuracy: 0.6000\n",
            "Epoch 2/20\n",
            "1/1 [==============================] - 0s 23ms/step - loss: 0.6807 - accuracy: 0.6000\n",
            "Epoch 3/20\n",
            "1/1 [==============================] - 0s 24ms/step - loss: 0.6783 - accuracy: 0.7000\n",
            "Epoch 4/20\n",
            "1/1 [==============================] - 0s 36ms/step - loss: 0.6759 - accuracy: 0.8000\n",
            "Epoch 5/20\n",
            "1/1 [==============================] - 0s 15ms/step - loss: 0.6735 - accuracy: 0.8000\n",
            "Epoch 6/20\n",
            "1/1 [==============================] - 0s 22ms/step - loss: 0.6712 - accuracy: 0.8000\n",
            "Epoch 7/20\n",
            "1/1 [==============================] - 0s 13ms/step - loss: 0.6688 - accuracy: 0.8000\n",
            "Epoch 8/20\n",
            "1/1 [==============================] - 0s 12ms/step - loss: 0.6664 - accuracy: 0.8000\n",
            "Epoch 9/20\n",
            "1/1 [==============================] - 0s 21ms/step - loss: 0.6640 - accuracy: 0.8000\n",
            "Epoch 10/20\n",
            "1/1 [==============================] - 0s 40ms/step - loss: 0.6617 - accuracy: 0.9000\n",
            "Epoch 11/20\n",
            "1/1 [==============================] - 0s 17ms/step - loss: 0.6593 - accuracy: 0.9000\n",
            "Epoch 12/20\n",
            "1/1 [==============================] - 0s 13ms/step - loss: 0.6570 - accuracy: 0.9000\n",
            "Epoch 13/20\n",
            "1/1 [==============================] - 0s 16ms/step - loss: 0.6546 - accuracy: 0.9000\n",
            "Epoch 14/20\n",
            "1/1 [==============================] - 0s 24ms/step - loss: 0.6522 - accuracy: 0.9000\n",
            "Epoch 15/20\n",
            "1/1 [==============================] - 0s 32ms/step - loss: 0.6499 - accuracy: 0.9000\n",
            "Epoch 16/20\n",
            "1/1 [==============================] - 0s 28ms/step - loss: 0.6475 - accuracy: 0.9000\n",
            "Epoch 17/20\n",
            "1/1 [==============================] - 0s 21ms/step - loss: 0.6451 - accuracy: 0.9000\n",
            "Epoch 18/20\n",
            "1/1 [==============================] - 0s 29ms/step - loss: 0.6427 - accuracy: 0.9000\n",
            "Epoch 19/20\n",
            "1/1 [==============================] - 0s 23ms/step - loss: 0.6403 - accuracy: 0.9000\n",
            "Epoch 20/20\n",
            "1/1 [==============================] - 0s 22ms/step - loss: 0.6379 - accuracy: 0.9000\n",
            "1/1 [==============================] - 0s 280ms/step - loss: 0.6355 - accuracy: 0.9000\n",
            "\n",
            " Accuracy: 0.9\n"
          ]
        }
      ]
    }
  ]
}