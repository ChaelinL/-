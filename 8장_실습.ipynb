{
  "nbformat": 4,
  "nbformat_minor": 0,
  "metadata": {
    "colab": {
      "provenance": [],
      "authorship_tag": "ABX9TyPR8ADOkspkwlKhiqkMWN+M",
      "include_colab_link": true
    },
    "kernelspec": {
      "name": "python3",
      "display_name": "Python 3"
    },
    "language_info": {
      "name": "python"
    }
  },
  "cells": [
    {
      "cell_type": "markdown",
      "metadata": {
        "id": "view-in-github",
        "colab_type": "text"
      },
      "source": [
        "<a href=\"https://colab.research.google.com/github/ChaelinL/Deeplearning_for_everyone/blob/main/8%EC%9E%A5_%EC%8B%A4%EC%8A%B5.ipynb\" target=\"_parent\"><img src=\"https://colab.research.google.com/assets/colab-badge.svg\" alt=\"Open In Colab\"/></a>"
      ]
    },
    {
      "cell_type": "markdown",
      "source": [
        "**파이썬 코딩으로 XPR 문제 해결하기**"
      ],
      "metadata": {
        "id": "PLsD8zwnd6YJ"
      }
    },
    {
      "cell_type": "code",
      "execution_count": null,
      "metadata": {
        "colab": {
          "base_uri": "https://localhost:8080/"
        },
        "id": "7J7k30VWd29u",
        "outputId": "ce61a4b8-5100-427a-cdce-798a39d966fe"
      },
      "outputs": [
        {
          "output_type": "stream",
          "name": "stdout",
          "text": [
            "입력값: (0, 0) 출력값: 0\n",
            "입력값: (1, 0) 출력값: 1\n",
            "입력값: (0, 1) 출력값: 1\n",
            "입력값: (1, 1) 출력값: 0\n"
          ]
        }
      ],
      "source": [
        "import numpy as np\n",
        "\n",
        "# 가중치와 바이어스\n",
        "w11 = np.array([-2,-2])\n",
        "w12 = np.array([2,2])\n",
        "w2 = np.array([1,1])\n",
        "b1 = 3\n",
        "b2 = -1\n",
        "b3 = -1\n",
        "\n",
        "# 퍼셉트론\n",
        "def MLP(x, w, b):\n",
        "  y = np.sum(w*x)+b\n",
        "  if y<=0:\n",
        "    return 0\n",
        "  else:\n",
        "    return 1\n",
        "\n",
        "# NAND 게이트\n",
        "def NAND(x1, x2):\n",
        "  return MLP(np.array([x1, x2]), w11, b1)\n",
        "\n",
        "# OR 게이트\n",
        "def OR(x1, x2):\n",
        "  return MLP(np.array([x1, x2]), w12, b2)\n",
        "\n",
        "# AND 게이트\n",
        "def AND(x1, x2):\n",
        "  return MLP(np.array([x1, x2]), w2, b3)\n",
        "\n",
        "# XOR 게이트\n",
        "def XOR(x1, x2):\n",
        "  return AND(NAND(x1, x2), OR(x1, x2))\n",
        "\n",
        "\n",
        "# x1, x2 값을 번갈아 대입해가며 최종 값 출력\n",
        "for x in [(0,0), (1,0), (0,1), (1,1)]:\n",
        "  y = XOR(x[0], x[1])\n",
        "  print(\"입력값: \" + str(x) + \" 출력값: \" + str(y))\n"
      ]
    }
  ]
}