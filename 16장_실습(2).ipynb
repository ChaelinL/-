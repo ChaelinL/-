{
  "nbformat": 4,
  "nbformat_minor": 0,
  "metadata": {
    "colab": {
      "provenance": [],
      "authorship_tag": "ABX9TyOGpw98kJTWC74SayANECXZ",
      "include_colab_link": true
    },
    "kernelspec": {
      "name": "python3",
      "display_name": "Python 3"
    },
    "language_info": {
      "name": "python"
    }
  },
  "cells": [
    {
      "cell_type": "markdown",
      "metadata": {
        "id": "view-in-github",
        "colab_type": "text"
      },
      "source": [
        "<a href=\"https://colab.research.google.com/github/ChaelinL/Deeplearning_for_everyone/blob/main/16%EC%9E%A5_%EC%8B%A4%EC%8A%B5(2).ipynb\" target=\"_parent\"><img src=\"https://colab.research.google.com/assets/colab-badge.svg\" alt=\"Open In Colab\"/></a>"
      ]
    },
    {
      "cell_type": "markdown",
      "source": [
        "# MNIST 손글씨 인식하기: 컨볼루션(CNN) 신경망 적용"
      ],
      "metadata": {
        "id": "ZBZx6HZmR-OQ"
      }
    },
    {
      "cell_type": "code",
      "execution_count": 1,
      "metadata": {
        "id": "6MeGei5AR8Or"
      },
      "outputs": [],
      "source": [
        "from tensorflow.keras.models import Sequential\n",
        "from tensorflow.keras.layers import Dense, Dropout, Flatten, Conv2D, MaxPooling2D\n",
        "from tensorflow.keras.callbacks import ModelCheckpoint, EarlyStopping\n",
        "\n",
        "from tensorflow.keras.datasets import mnist\n",
        "from tensorflow.keras.utils import to_categorical\n",
        "\n",
        "import matplotlib.pyplot as plt\n",
        "import numpy as np\n",
        "\n",
        "\n",
        "# 데이터 불러오기\n",
        "(X_train, y_train), (X_test, y_test) = mnist.load_data()\n",
        "X_train = X_train.reshape(X_train.shape[0], 28, 28, 1).astype('float32')/255\n",
        "X_test = X_test.reshape(X_test.shape[0], 28, 28, 1).astype('float32')/255\n",
        "y_train = to_categorical(y_train)\n",
        "y_test = to_categorical(y_test)"
      ]
    },
    {
      "cell_type": "code",
      "source": [
        "# 컨볼루션 신경망의 설정\n",
        "model = Sequential()\n",
        "model.add(Conv2D(32, kernel_size=(3,3), input_shape=(28, 28, 1), activation='relu'))  # 32개의 3*3 형식 커넬 사용, 28*28 크기의 흑백(1) 이미지 사용 -- cf. 색상은 3\n",
        "model.add(Conv2D(64, (3,3), activation='relu'))  # 컨볼루션 층 하나 더 추가\n",
        "model.add(MaxPooling2D(pool_size=(2,2)))  # 맥스풀링을 통해 결과 간소화\n",
        "model.add(Dropout(0.25))  # 드롭아웃을 통해 과적합 방지. 이 경우 총 노드 중 25%의 노드를 끈다는 뜻.\n",
        "model.add(Flatten())  # 맥스풀링과 드롭아웃은 2차원 배열이기 때문에 1차원 배열로 변경\n",
        "\n",
        "model.add(Dense(128, activation='relu'))\n",
        "model.add(Dropout(0.5))\n",
        "model.add(Dense(10, activation='softmax'))"
      ],
      "metadata": {
        "id": "4_9m3fQdSi5l"
      },
      "execution_count": 2,
      "outputs": []
    },
    {
      "cell_type": "code",
      "source": [
        "# 모델 실행 환경 설정\n",
        "model.compile(loss='categorical_crossentropy', optimizer='adam', metrics=['accuracy'])\n",
        "\n",
        "# 모델 최적화를 위한 설정 구간\n",
        "modelpath = \"./MNIST_MLP.hdf5\"\n",
        "checkpointer = ModelCheckpoint(filepath=modelpath, monitor='val_loss', verbose=1, save_best_only=True)\n",
        "early_stopping_callback = EarlyStopping(monitor='val_loss', patience=10)\n",
        "\n",
        "# 모델 실행\n",
        "history = model.fit(X_train, y_train, validation_split=0.25, epochs=30, batch_size=200, verbose=0, callbacks=[early_stopping_callback, checkpointer])\n",
        "\n",
        "# 테스트 정확도 출력\n",
        "print(f\"\\n Test Accuracy: {round(model.evaluate(X_test, y_test)[1], 4)}\")"
      ],
      "metadata": {
        "colab": {
          "base_uri": "https://localhost:8080/"
        },
        "id": "S077JmcMZmct",
        "outputId": "dba75b15-75b8-48fc-cb0d-ff17dd986aa9"
      },
      "execution_count": 3,
      "outputs": [
        {
          "output_type": "stream",
          "name": "stdout",
          "text": [
            "\n",
            "Epoch 1: val_loss improved from inf to 0.08116, saving model to ./MNIST_MLP.hdf5\n",
            "\n",
            "Epoch 2: val_loss improved from 0.08116 to 0.05965, saving model to ./MNIST_MLP.hdf5\n",
            "\n",
            "Epoch 3: val_loss improved from 0.05965 to 0.05232, saving model to ./MNIST_MLP.hdf5\n",
            "\n",
            "Epoch 4: val_loss improved from 0.05232 to 0.05003, saving model to ./MNIST_MLP.hdf5\n",
            "\n",
            "Epoch 5: val_loss improved from 0.05003 to 0.04773, saving model to ./MNIST_MLP.hdf5\n",
            "\n",
            "Epoch 6: val_loss improved from 0.04773 to 0.04414, saving model to ./MNIST_MLP.hdf5\n",
            "\n",
            "Epoch 7: val_loss improved from 0.04414 to 0.04114, saving model to ./MNIST_MLP.hdf5\n",
            "\n",
            "Epoch 8: val_loss improved from 0.04114 to 0.04109, saving model to ./MNIST_MLP.hdf5\n",
            "\n",
            "Epoch 9: val_loss improved from 0.04109 to 0.03849, saving model to ./MNIST_MLP.hdf5\n",
            "\n",
            "Epoch 10: val_loss did not improve from 0.03849\n",
            "\n",
            "Epoch 11: val_loss did not improve from 0.03849\n",
            "\n",
            "Epoch 12: val_loss did not improve from 0.03849\n",
            "\n",
            "Epoch 13: val_loss did not improve from 0.03849\n",
            "\n",
            "Epoch 14: val_loss did not improve from 0.03849\n",
            "\n",
            "Epoch 15: val_loss did not improve from 0.03849\n",
            "\n",
            "Epoch 16: val_loss did not improve from 0.03849\n",
            "\n",
            "Epoch 17: val_loss did not improve from 0.03849\n",
            "\n",
            "Epoch 18: val_loss did not improve from 0.03849\n",
            "\n",
            "Epoch 19: val_loss did not improve from 0.03849\n",
            "313/313 [==============================] - 6s 19ms/step - loss: 0.0333 - accuracy: 0.9915\n",
            "\n",
            " Test Accuracy: 0.9915\n"
          ]
        }
      ]
    },
    {
      "cell_type": "code",
      "source": [
        "# 검증셋과 학습셋의 오차 저장\n",
        "y_vloss = history.history['val_loss']\n",
        "y_loss = history.history['loss']\n",
        "\n",
        "# 그래프로 표현하기\n",
        "x_len = np.arange(len(y_loss))\n",
        "\n",
        "plt.plot(x_len, y_vloss, marker='.', c='red', label='Testset_loss')\n",
        "plt.plot(x_len, y_loss, marker='.', c='blue', label='Trainset_loss')\n",
        "\n",
        "plt.legend(loc='upper right')\n",
        "plt.grid()\n",
        "plt.xlabel('epoch')\n",
        "plt.ylabel('loss')\n",
        "plt.show()"
      ],
      "metadata": {
        "id": "7U1Jo2HHWkV1",
        "colab": {
          "base_uri": "https://localhost:8080/",
          "height": 279
        },
        "outputId": "44d1ba79-5f91-4c5e-c6ea-aa4f9275502a"
      },
      "execution_count": 4,
      "outputs": [
        {
          "output_type": "display_data",
          "data": {
            "text/plain": [
              "<Figure size 432x288 with 1 Axes>"
            ],
            "image/png": "[encoded data removed]"
          },
          "metadata": {
            "needs_background": "light"
          }
        }
      ]
    },
    {
      "cell_type": "markdown",
      "source": [
        "=> 9번째 에포크에서 베스트 모델, 테스트 정확도는 99.15%로 향상됨.\n",
        "\n",
        "=> 컨볼루션 신경망 모델로 만든 학습셋과 테스트셋의 오차가 이전의 얕은 구조로 만든 딥러닝 모델보다 작아짐!!"
      ],
      "metadata": {
        "id": "q758MyEkkiU5"
      }
    }
  ]
}